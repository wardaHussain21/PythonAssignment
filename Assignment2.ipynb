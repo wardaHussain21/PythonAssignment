{
 "cells": [
  {
   "cell_type": "code",
   "execution_count": null,
   "metadata": {},
   "outputs": [],
   "source": [
    "#Task 1 marksheet"
   ]
  },
  {
   "cell_type": "code",
   "execution_count": 1,
   "metadata": {},
   "outputs": [
    {
     "name": "stdout",
     "output_type": "stream",
     "text": [
      "Enter Number 678\n",
      "678 is even\n"
     ]
    }
   ],
   "source": [
    "#Task 2\n",
    "number = int(input(\"Enter Number \"))\n",
    "if (number % 2 ==0):\n",
    "    print(number , \"is even\")\n",
    "else:\n",
    "    print(number, \"is odd\")\n"
   ]
  },
  {
   "cell_type": "code",
   "execution_count": 2,
   "metadata": {},
   "outputs": [
    {
     "name": "stdout",
     "output_type": "stream",
     "text": [
      "Length of array  6\n"
     ]
    }
   ],
   "source": [
    "#Task 3 \"length of list\"\n",
    "List_of_numbers = [1,2,3,4,4,5]\n",
    "print(\"Length of array \",len(List_of_numbers))\n"
   ]
  },
  {
   "cell_type": "code",
   "execution_count": 4,
   "metadata": {},
   "outputs": [
    {
     "name": "stdout",
     "output_type": "stream",
     "text": [
      "sum of list elements  19\n"
     ]
    }
   ],
   "source": [
    "#Task 4 sum all items in list\n",
    "List_of_numbers = [1,2,3,4,4,5]\n",
    "print(\"sum of list elements \",sum(List_of_numbers))"
   ]
  },
  {
   "cell_type": "code",
   "execution_count": 6,
   "metadata": {},
   "outputs": [
    {
     "name": "stdout",
     "output_type": "stream",
     "text": [
      "maximum number in list  202\n"
     ]
    }
   ],
   "source": [
    "#Task 5 maximum number in list\n",
    "List_of_numbers = [11,202,35,14,41,15]\n",
    "print(\"maximum number in list \",max(List_of_numbers))"
   ]
  },
  {
   "cell_type": "code",
   "execution_count": 9,
   "metadata": {},
   "outputs": [
    {
     "name": "stdout",
     "output_type": "stream",
     "text": [
      "Number less than 5  1\n",
      "Number less than 5  1\n",
      "Number less than 5  2\n",
      "Number less than 5  3\n"
     ]
    }
   ],
   "source": [
    "#Task 6 number in list less then 5\n",
    "List_of_numbers = [1,1,2,3,5,8,13,21,34,55,89]\n",
    "for number in List_of_numbers:\n",
    "    if(number < 5):\n",
    "         print(\"Number less than 5 \",number)"
   ]
  },
  {
   "cell_type": "code",
   "execution_count": null,
   "metadata": {},
   "outputs": [],
   "source": []
  }
 ],
 "metadata": {
  "kernelspec": {
   "display_name": "Python 3",
   "language": "python",
   "name": "python3"
  },
  "language_info": {
   "codemirror_mode": {
    "name": "ipython",
    "version": 3
   },
   "file_extension": ".py",
   "mimetype": "text/x-python",
   "name": "python",
   "nbconvert_exporter": "python",
   "pygments_lexer": "ipython3",
   "version": "3.7.3"
  }
 },
 "nbformat": 4,
 "nbformat_minor": 2
}
