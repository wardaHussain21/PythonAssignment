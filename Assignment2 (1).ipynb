{
 "cells": [
  {
   "cell_type": "code",
   "execution_count": 2,
   "metadata": {},
   "outputs": [
    {
     "name": "stdout",
     "output_type": "stream",
     "text": [
      "Enter Name: warda\n",
      "Enter Roll: 123\n",
      "Subject 1 out of 100 : 98\n",
      "Subject 2 out of 100 : 87\n",
      "Subject 3 out of 100 : 76\n",
      "Subject 4 out of 100 : 90\n",
      "Subject 5 out of 100 : 76\n",
      "Total  427\n",
      "Percentage  85.39999999999999\n",
      "Grade A+\n"
     ]
    }
   ],
   "source": [
    "#Task 1 marksheet\n",
    "\n",
    "Name = input(\"Enter Name: \")\n",
    "roll_no = int(input(\"Enter Roll: \"))\n",
    "\n",
    "Sub_marks = []\n",
    "total = 0\n",
    "grade = \"\"\n",
    "percentage = 0\n",
    "for i in range(5):\n",
    "    a = int(input(\"Subject \"+str(i+1)+\" marks out of 100 : \" ))\n",
    "    Sub_marks.append(a)\n",
    "\n",
    "\n",
    "for x in Sub_marks:\n",
    "            total += x\n",
    "print(\"Total \", total)\n",
    "\n",
    "per =(total/500) * 100 \n",
    "print(\"Percentage \",per)\n",
    "\n",
    "\n",
    "if(per >= 80 and per <= 100 ):\n",
    "    print(\"Grade A+\")\n",
    "elif(per >= 70 and per <= 79):\n",
    "    print(\"Grade A\")\n",
    "elif(per >= 60 and per <= 69):\n",
    "    print(\"Grade B\")\n",
    "elif(per >= 50 and per <= 59):\n",
    "    print(\"Grade C\")\n",
    "elif(per >= 40 and per <= 49):\n",
    "    print(\"Grade D\")\n",
    "elif(per >= 33 and per <= 39):\n",
    "    print(\"Grade E\")\n",
    "else:\n",
    "    print(\"Grade F\")"
   ]
  },
  {
   "cell_type": "code",
   "execution_count": 1,
   "metadata": {},
   "outputs": [
    {
     "name": "stdout",
     "output_type": "stream",
     "text": [
      "Enter Number 678\n",
      "678 is even\n"
     ]
    }
   ],
   "source": [
    "#Task 2\n",
    "number = int(input(\"Enter Number \"))\n",
    "if (number % 2 ==0):\n",
    "    print(number , \"is even\")\n",
    "else:\n",
    "    print(number, \"is odd\")\n"
   ]
  },
  {
   "cell_type": "code",
   "execution_count": 2,
   "metadata": {},
   "outputs": [
    {
     "name": "stdout",
     "output_type": "stream",
     "text": [
      "Length of array  6\n"
     ]
    }
   ],
   "source": [
    "#Task 3 \"length of list\"\n",
    "List_of_numbers = [1,2,3,4,4,5]\n",
    "print(\"Length of array \",len(List_of_numbers))\n"
   ]
  },
  {
   "cell_type": "code",
   "execution_count": 4,
   "metadata": {},
   "outputs": [
    {
     "name": "stdout",
     "output_type": "stream",
     "text": [
      "sum of list elements  19\n"
     ]
    }
   ],
   "source": [
    "#Task 4 sum all items in list\n",
    "List_of_numbers = [1,2,3,4,4,5]\n",
    "print(\"sum of list elements \",sum(List_of_numbers))"
   ]
  },
  {
   "cell_type": "code",
   "execution_count": 6,
   "metadata": {},
   "outputs": [
    {
     "name": "stdout",
     "output_type": "stream",
     "text": [
      "maximum number in list  202\n"
     ]
    }
   ],
   "source": [
    "#Task 5 maximum number in list\n",
    "List_of_numbers = [11,202,35,14,41,15]\n",
    "print(\"maximum number in list \",max(List_of_numbers))"
   ]
  },
  {
   "cell_type": "code",
   "execution_count": 9,
   "metadata": {},
   "outputs": [
    {
     "name": "stdout",
     "output_type": "stream",
     "text": [
      "Number less than 5  1\n",
      "Number less than 5  1\n",
      "Number less than 5  2\n",
      "Number less than 5  3\n"
     ]
    }
   ],
   "source": [
    "#Task 6 number in list less then 5\n",
    "List_of_numbers = [1,1,2,3,5,8,13,21,34,55,89]\n",
    "for number in List_of_numbers:\n",
    "    if(number < 5):\n",
    "         print(\"Number less than 5 \",number)"
   ]
  },
  {
   "cell_type": "code",
   "execution_count": null,
   "metadata": {},
   "outputs": [],
   "source": []
  }
 ],
 "metadata": {
  "kernelspec": {
   "display_name": "Python 3",
   "language": "python",
   "name": "python3"
  },
  "language_info": {
   "codemirror_mode": {
    "name": "ipython",
    "version": 3
   },
   "file_extension": ".py",
   "mimetype": "text/x-python",
   "name": "python",
   "nbconvert_exporter": "python",
   "pygments_lexer": "ipython3",
   "version": "3.7.4"
  }
 },
 "nbformat": 4,
 "nbformat_minor": 2
}
