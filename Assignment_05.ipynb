{
 "cells": [
  {
   "cell_type": "code",
   "execution_count": 11,
   "metadata": {},
   "outputs": [
    {
     "name": "stdout",
     "output_type": "stream",
     "text": [
      "Input a number to compute the factiorial : 9\n",
      "Factorial of number is  362880\n"
     ]
    }
   ],
   "source": [
    "#Task 1\n",
    "def factorial(n):\n",
    "    if n == 0:\n",
    "        return 1\n",
    "    else:\n",
    "        return n * factorial(n-1)\n",
    "n=int(input(\"Input a number to compute the factiorial : \"))\n",
    "print(\"Factorial of number is \",factorial(n))\n"
   ]
  },
  {
   "cell_type": "code",
   "execution_count": 3,
   "metadata": {},
   "outputs": [
    {
     "name": "stdout",
     "output_type": "stream",
     "text": [
      "No. of Upper case characters : 3 , No. of Lower case characters : 15\n"
     ]
    }
   ],
   "source": [
    "#Task 2\n",
    "def up_low(s):      \n",
    "    u = sum(1 for i in s if i.isupper())\n",
    "    l = sum(1 for i in s if i.islower())\n",
    "    print( \"No. of Upper case characters : %s , No. of Lower case characters : %s\" % (u,l))\n",
    "\n",
    "up_low(\"My name is Warda... Yours??\")"
   ]
  },
  {
   "cell_type": "code",
   "execution_count": 14,
   "metadata": {},
   "outputs": [
    {
     "name": "stdout",
     "output_type": "stream",
     "text": [
      "Even Numbers are \n",
      "10 4 66 "
     ]
    }
   ],
   "source": [
    "#Task 3\n",
    "# list of numbers \n",
    "list1 = [10, 21, 4, 45, 66, 93] \n",
    "  \n",
    "# iterating each number in list \n",
    "print(\"Even Numbers are \")\n",
    "for num in list1: \n",
    "      \n",
    "    # checking condition \n",
    "    if num % 2 == 0: \n",
    "        print(num, end = \" \") "
   ]
  },
  {
   "cell_type": "code",
   "execution_count": 6,
   "metadata": {},
   "outputs": [
    {
     "name": "stdout",
     "output_type": "stream",
     "text": [
      "Enter a word afifa\n",
      "Yes it is palindrome\n"
     ]
    }
   ],
   "source": [
    "#Task 4\n",
    "# function which return reverse of a string \n",
    "def reverse(s): \n",
    "    return s[::-1] \n",
    "  \n",
    "def isPalindrome(s): \n",
    "    # Calling reverse function \n",
    "    rev = reverse(s) \n",
    "  \n",
    "    # Checking if both string are equal or not \n",
    "    if (s == rev): \n",
    "        return True\n",
    "    return False\n",
    "  \n",
    "  # Driver code \n",
    "s = input(\"Enter a word \")\n",
    "ans = isPalindrome(s) \n",
    "  \n",
    "if ans == 1: \n",
    "    print(\"Yes it is palindrome\") \n",
    "else: \n",
    "    print(\"No it is palindrome \") "
   ]
  },
  {
   "cell_type": "code",
   "execution_count": 7,
   "metadata": {},
   "outputs": [
    {
     "name": "stdout",
     "output_type": "stream",
     "text": [
      "Enter a Number: 11\n",
      "True\n"
     ]
    }
   ],
   "source": [
    "#Task 5\n",
    "def test_prime(n):\n",
    "    if (n==1):\n",
    "        return False\n",
    "    elif (n==2):\n",
    "        return True;\n",
    "    else:\n",
    "        for x in range(2,n):\n",
    "            if(n % x==0):\n",
    "                return False\n",
    "        return True\n",
    "n = int(input(\"Enter a Number: \"))\n",
    "print(test_prime(n))"
   ]
  },
  {
   "cell_type": "code",
   "execution_count": 10,
   "metadata": {},
   "outputs": [
    {
     "name": "stdout",
     "output_type": "stream",
     "text": [
      "Enter Shopping Items: rice clothes vegetables chocolates fruits flour\n",
      "0 rice\n",
      "1 clothes\n",
      "2 vegetables\n",
      "3 chocolates\n",
      "4 fruits\n"
     ]
    }
   ],
   "source": [
    "#Task 6\n",
    "def BoughtItems(*ShoppingItems):\n",
    "\n",
    "   # names is a tuple with arguments\n",
    "    for e in range (0,100):\n",
    "        for name in ShoppingItems:\n",
    "            print(e,name[e])\n",
    "            \n",
    "     \n",
    "             \n",
    "UserInput = input(\"Enter Shopping Items: \")\n",
    "ShoppingItems = UserInput.split()\n",
    "\n",
    "BoughtItems(ShoppingItems)\n"
   ]
  },
  {
   "cell_type": "code",
   "execution_count": null,
   "metadata": {},
   "outputs": [],
   "source": []
  }
 ],
 "metadata": {
  "kernelspec": {
   "display_name": "Python 3",
   "language": "python",
   "name": "python3"
  },
  "language_info": {
   "codemirror_mode": {
    "name": "ipython",
    "version": 3
   },
   "file_extension": ".py",
   "mimetype": "text/x-python",
   "name": "python",
   "nbconvert_exporter": "python",
   "pygments_lexer": "ipython3",
   "version": "3.7.4"
  }
 },
 "nbformat": 4,
 "nbformat_minor": 2
}
